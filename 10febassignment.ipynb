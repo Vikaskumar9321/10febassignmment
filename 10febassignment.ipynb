{
 "cells": [
  {
   "cell_type": "markdown",
   "id": "4a214a9f-d4cb-4c1e-9e09-cb817391e191",
   "metadata": {},
   "source": [
    "#Ans1"
   ]
  },
  {
   "cell_type": "markdown",
   "id": "2f514431-8107-4470-a260-364f76e872bd",
   "metadata": {},
   "source": [
    "In most programmings, gthe function used to open a file is called \"open()\". The specific syntax for this function may vary slightly depending on the programming language being used. "
   ]
  },
  {
   "cell_type": "code",
   "execution_count": null,
   "id": "ec2d9f64-59e9-4a32-8355-044348154212",
   "metadata": {},
   "outputs": [],
   "source": [
    "file_obj = open(file_path , mode)"
   ]
  },
  {
   "cell_type": "markdown",
   "id": "ceb75b90-7f74-45ad-bda2-1b9ec4f0a88d",
   "metadata": {},
   "source": [
    "#Modes of opening a file"
   ]
  },
  {
   "cell_type": "markdown",
   "id": "86b18526-387a-4780-91f7-fbda8f8eee5e",
   "metadata": {},
   "source": [
    "open() function specifies the mode in which to open the file. heree are the most common mode for opening a file:\n",
    "\n",
    "\"r\"(Read):Open a file for reading(default mode). if the file doesn't exist, this will raise an error.\n",
    "\"w\"(Write): Open a file for writing. if  the file already exists, its contents will be truncated(deleted). if the file  doesn't exist, a new file will be created.\n",
    "\"a\"(Append): Open a file for writing, but append to the end of the file instead of truncated it. if the file doesn't exist, a new file will be created.\n",
    "\"x\"(Exclusive): Open a file for writing, but only if it doesn't already exist. it  the file doesn't exist, this will raiise an error.\n",
    "\"b\"(Binary): Open a file in binry mode. this is used for opening non-text file like image or binary data.\n",
    "\n",
    "#Some other less common modes are:\n",
    "\n",
    ". \"t\"(Text): Open a file in text mode(default mode).\n",
    ". \"+\"(Update): Open a file for reading and writing."
   ]
  },
  {
   "cell_type": "code",
   "execution_count": null,
   "id": "13617779-3fa2-44e3-bec5-5e77ac783ae8",
   "metadata": {},
   "outputs": [],
   "source": [
    "#examole of modes\n",
    "#Read mode\n",
    "file = open(\"file.txt\", \"r\")\n",
    "\n",
    "#Write mode (truncate existing file or create  new file)\n",
    "file = open(\"file.txt\" , \"w\")\n",
    "\n",
    "#Append mode (open existing file or create new file)\n",
    "file = open(\"file.txt\" , \"a\")\n",
    "\n",
    "#Exclusive mode (create new file only if it doesn't exist)\n",
    "file = open(\"file.txt\" , \"x\")\n",
    "\n",
    "#Binary mode(open non-text file)\n",
    "file = open(\"image.png\", \"rb\")"
   ]
  },
  {
   "cell_type": "markdown",
   "id": "53273868-c6e0-4a74-9cee-f1291ac1c8ac",
   "metadata": {},
   "source": [
    "#Ans 2"
   ]
  },
  {
   "cell_type": "markdown",
   "id": "e86372cc-c694-448b-9000-c87f4f701a17",
   "metadata": {},
   "source": [
    "The 'close()' function is used to close an open file. it is important to close a file after you are done working with it for several reasons:\n",
    "\n",
    "1.) Free up system resources: When a file is opened, the operating system allocates system resources to the file. if you don't close the file after you are done working with it, these resources may remain allocated, which can lead to problems like resource exhaustion. by closing the file, you release these resources back to the system.\n",
    "\n",
    "2.) Ensure data is saved: some operating systems and  file systems may buffer writes to a file in memory insted of writing them directly to the disk, if you don't close the file, these writes may not be saved to the disk, which means that you may loss data if something goes wrong(power failure). By closing the file, you ensure that any  buffered writes are saved to the disk.\n",
    "\n",
    "3.) Avoid conflicts with other programs: Some operating systems may lock a file  while it  is open by a programs, preventing other programs from accessing the file. if you don't close the file, it may remain locked , which can preventing other programs from using it. by closing the file , you relase the lock and  allow other programs to access the file."
   ]
  },
  {
   "cell_type": "markdown",
   "id": "5da70f35-17da-4950-b48b-96fee3775922",
   "metadata": {},
   "source": [
    "#Ans3"
   ]
  },
  {
   "cell_type": "code",
   "execution_count": 2,
   "id": "d586fd07-ebcf-404a-891d-863a65ce2a22",
   "metadata": {},
   "outputs": [],
   "source": [
    "with open(\"Data_scientist.txt\" , 'w') as f:\n",
    "    f.write(\"I want to become a Data Scientist \")"
   ]
  },
  {
   "cell_type": "code",
   "execution_count": 5,
   "id": "6d264bb6-c12b-42f5-9388-9eb5f41e23f4",
   "metadata": {},
   "outputs": [
    {
     "name": "stdout",
     "output_type": "stream",
     "text": [
      "I want to become a Data Scientist \n"
     ]
    }
   ],
   "source": [
    "with open(\"Data_scientist.txt\" , 'r') as f:\n",
    "    contents = f.read()\n",
    "    print(contents)\n",
    "    \n",
    "f.close()    \n",
    " "
   ]
  },
  {
   "cell_type": "code",
   "execution_count": 7,
   "id": "e9783054-764b-46e6-a320-bfdd220d9ca6",
   "metadata": {},
   "outputs": [],
   "source": [
    "file = open(\"Data_scientist.txt\" , \"w\")\n",
    "file.write(\"I want to become a Data scientist\")\n",
    "file.close()\n"
   ]
  },
  {
   "cell_type": "code",
   "execution_count": 9,
   "id": "e1b471c7-2ade-4d0b-b511-214788991ca5",
   "metadata": {},
   "outputs": [
    {
     "name": "stdout",
     "output_type": "stream",
     "text": [
      "I want to become a Data scientist\n"
     ]
    }
   ],
   "source": [
    "file = open(\"Data_scientist.txt\", \"r\")\n",
    "print(file.read())\n",
    "file.close()"
   ]
  },
  {
   "cell_type": "markdown",
   "id": "3b065c97-2cf6-49c3-b550-086b6f366071",
   "metadata": {},
   "source": [
    "#Ans 4"
   ]
  },
  {
   "cell_type": "markdown",
   "id": "a5db41c6-af6a-45db-95e3-49a6d1708074",
   "metadata": {},
   "source": [
    "read(): This function reads the entire content of a file as a string, it returns a string object containing the entire contents of the file."
   ]
  },
  {
   "cell_type": "code",
   "execution_count": null,
   "id": "94fb7811-3981-431e-a268-044631f52e10",
   "metadata": {},
   "outputs": [],
   "source": [
    "pw = open(\"example.txt\", \"r\")\n",
    "\n",
    "content = pw.read()\n",
    "print(content)\n",
    "pw.close()"
   ]
  },
  {
   "cell_type": "markdown",
   "id": "f0b0b092-0805-434b-b57f-1c783c740abc",
   "metadata": {},
   "source": [
    "readline(): This function reads a single line from the file. it returns a string object containing the text of the line, including the newline character"
   ]
  },
  {
   "cell_type": "code",
   "execution_count": null,
   "id": "853c46cb-4e94-4bd5-83d5-a2ae366ec309",
   "metadata": {},
   "outputs": [],
   "source": [
    "pw = open(\"example.txt\", \"r\")\n",
    "line = pw.readlilne()\n",
    "print(line)\n",
    "pw.close()"
   ]
  },
  {
   "cell_type": "markdown",
   "id": "127d86dd-7d54-431c-9223-a6baba3285e7",
   "metadata": {},
   "source": [
    "readlines(): This function reads all the lines of the  file and returns a list of strings. Each string in the list represents a single line from the file."
   ]
  },
  {
   "cell_type": "code",
   "execution_count": null,
   "id": "1d7e0de2-7b15-43ed-aab9-a55bd2045785",
   "metadata": {},
   "outputs": [],
   "source": [
    "pw = open(\"example.txt\" , \"r\")\n",
    "lines = pw.readlines()\n",
    "for line in lilnes:\n",
    "    print(line)\n",
    "    \n",
    "pw.close()    "
   ]
  },
  {
   "cell_type": "markdown",
   "id": "7b053197-5f06-4e8a-9d0a-037237c48e18",
   "metadata": {},
   "source": [
    "#Ans 5"
   ]
  },
  {
   "cell_type": "markdown",
   "id": "f337f24e-616f-4337-b022-3cdddd257017",
   "metadata": {},
   "source": [
    "The with statement in python is used in conjuction with file handlig to ensure that a file is closed when the block inside the with statement is exited. This way, you don't need to worry about closing the file explicity. The open() function is used to open a file and return a file object that can be used to read, write or modify the content of the file.\n",
    "\n",
    "The advantage of using with statement with open() is that the file is closed as soon as the block inside the with statement with open() is that it ensures that the file is closed as soon as  the block inside the with statement is exited, even if an exception occurs. This is particularly useful when working with files because it can be easy to forget to close a file. which can lead to resouce leaks and other issues"
   ]
  },
  {
   "cell_type": "code",
   "execution_count": null,
   "id": "107e2ec9-7019-4430-9174-84c4ebd820ec",
   "metadata": {},
   "outputs": [],
   "source": [
    "with open(\"example.txt\", \"r\") as file:\n",
    "    content = file.read()\n",
    "    \n",
    "    print(content)"
   ]
  },
  {
   "cell_type": "markdown",
   "id": "9c207b4d-1754-4b58-bdac-9e2fb4043396",
   "metadata": {},
   "source": [
    "#Ans 6"
   ]
  },
  {
   "cell_type": "markdown",
   "id": "f979026f-6d00-4e68-88cc-e3d36b5af914",
   "metadata": {},
   "source": [
    "write() function is used to write a single string to a file. It returns the number of characters written to the file. If the file does not exist, it creates a new file. If the file already exists, it overwrites the existing file."
   ]
  },
  {
   "cell_type": "code",
   "execution_count": null,
   "id": "8ed494f6-f7d4-48dd-99ac-9ac32013a86e",
   "metadata": {},
   "outputs": [],
   "source": [
    "file = open(\"example.txt\", \"w\")\n",
    "file.write(\"This is an example file created using the write() function.\")\n",
    "file.close()"
   ]
  },
  {
   "cell_type": "markdown",
   "id": "000f3745-9509-421e-8afc-cd949b6140f3",
   "metadata": {},
   "source": [
    "writelines() function is used to write multiple strings to a file. It takes a list of strings as an argument and writes each string to the file. It returns nothing. If the file does not exist, it creates a new file. If the file already exists, it overwrites the existing file."
   ]
  },
  {
   "cell_type": "code",
   "execution_count": null,
   "id": "c46355b7-746e-4ca6-b2e5-64ae201f21ba",
   "metadata": {},
   "outputs": [],
   "source": [
    "\n",
    "file = open(\"example.txt\", \"w\")\n",
    "lines = [\"This is line 1.\\n\", \"This is line 2.\\n\", \"This is line 3.\\n\"]\n",
    "file.writelines(lines)\n",
    "file.close()"
   ]
  }
 ],
 "metadata": {
  "kernelspec": {
   "display_name": "Python 3 (ipykernel)",
   "language": "python",
   "name": "python3"
  },
  "language_info": {
   "codemirror_mode": {
    "name": "ipython",
    "version": 3
   },
   "file_extension": ".py",
   "mimetype": "text/x-python",
   "name": "python",
   "nbconvert_exporter": "python",
   "pygments_lexer": "ipython3",
   "version": "3.10.8"
  }
 },
 "nbformat": 4,
 "nbformat_minor": 5
}
